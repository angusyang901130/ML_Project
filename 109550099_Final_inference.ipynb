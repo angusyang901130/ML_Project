{
 "cells": [
  {
   "cell_type": "code",
   "execution_count": 5,
   "metadata": {},
   "outputs": [],
   "source": [
    "import numpy as np\n",
    "import pandas as pd\n",
    "\n",
    "INPUT_DIR = './input'\n",
    "TEST_PATH = INPUT_DIR + '/test.csv'\n",
    "SUBMISSION_PATH = INPUT_DIR + '/sample_submission.csv'"
   ]
  },
  {
   "cell_type": "code",
   "execution_count": 6,
   "metadata": {},
   "outputs": [],
   "source": [
    "def createAvgStd(df):\n",
    "    df['avg'] = 0\n",
    "    for i in range(3, 17):\n",
    "        df['avg'] += df['measurement_'+str(i)].copy()\n",
    "\n",
    "    df['avg'] /= 14\n",
    "\n",
    "    df['std'] = 0\n",
    "    for i in range(3, 17):\n",
    "        df['std'] += (df['measurement_'+str(i)].copy() - df['avg'].copy()) ** 2\n",
    "        df = df.drop(['measurement_'+str(i)].copy(), axis=1)\n",
    "\n",
    "    df['std'] /= 14 \n",
    "    df['std'] = np.sqrt(df['std'].copy())\n",
    "\n",
    "    return df\n",
    "\n",
    "def dfToNumpy(csv_file):\n",
    "    df = pd.read_csv(csv_file)\n",
    "    num_of_rows = len(df['id'])\n",
    "\n",
    "    df = df.drop(['id', 'product_code', 'attribute_0', 'attribute_1', 'attribute_2', 'attribute_3'], axis=1)   \n",
    "    \n",
    "    loading = df['loading'].copy()\n",
    "    \n",
    "\n",
    "    for i in range(0, 17):\n",
    "        df['measurement_'+str(i)] = df['measurement_'+str(i)].copy() / loading.copy()\n",
    "\n",
    "    df = createAvgStd(df)\n",
    "    #print(\"New dataframe columns: {col}, number of columns = {num}\".format(col=df.columns.to_list(), num=len(df.columns.to_list())))\n",
    "\n",
    "\n",
    "    measurement = ['measurement_17', 'measurement_0', 'measurement_1', 'measurement_2']\n",
    "    no_std = ['std', 'avg']\n",
    "    need_std = ['loading']\n",
    "    #need_std = []\n",
    "    failure = ['failure']\n",
    "\n",
    "    if 'failure' in df.columns.to_list():\n",
    "        columns = failure + no_std + need_std + measurement\n",
    "    else:\n",
    "        columns = no_std + need_std + measurement\n",
    "\n",
    "    #print(\"Data Frame has columns: \", columns)\n",
    "    df = df[columns]\n",
    "\n",
    "    #print(df)\n",
    "    #print(\"Data Frame has columns: \", df.columns.to_list())\n",
    "\n",
    "    features = df.to_numpy()\n",
    "    \n",
    "    return features, df.columns"
   ]
  },
  {
   "attachments": {},
   "cell_type": "markdown",
   "metadata": {},
   "source": [
    "### Load Pickle"
   ]
  },
  {
   "cell_type": "code",
   "execution_count": 7,
   "metadata": {},
   "outputs": [
    {
     "name": "stdout",
     "output_type": "stream",
     "text": [
      "Done loading\n"
     ]
    }
   ],
   "source": [
    "import pickle\n",
    "\n",
    "model_name = 'model.pkl'\n",
    "imputer_name = 'imputer.pkl'\n",
    "scaler_name = 'scaler.pkl'\n",
    "\n",
    "model_file = open(model_name, 'rb')\n",
    "imputer_file = open(imputer_name, 'rb')\n",
    "scaler_file = open(scaler_name, 'rb')\n",
    "\n",
    "clf = pickle.load(model_file)\n",
    "imputer = pickle.load(imputer_file)\n",
    "scaler = pickle.load(scaler_file)\n",
    "\n",
    "model_file.close()\n",
    "imputer_file.close()\n",
    "scaler_file.close()\n",
    "\n",
    "print(\"Done loading\")"
   ]
  },
  {
   "attachments": {},
   "cell_type": "markdown",
   "metadata": {},
   "source": [
    "### Inference"
   ]
  },
  {
   "cell_type": "code",
   "execution_count": 8,
   "metadata": {},
   "outputs": [
    {
     "name": "stdout",
     "output_type": "stream",
     "text": [
      "Data has feature:  ['std', 'avg', 'loading', 'measurement_17', 'measurement_0', 'measurement_1', 'measurement_2']\n"
     ]
    }
   ],
   "source": [
    "features, columns = dfToNumpy(TEST_PATH)\n",
    "features = imputer.fit_transform(features)\n",
    "\n",
    "norm_features = features[:, 0:2]\n",
    "std_features = features[:, 2:]\n",
    "\n",
    "#norm_features = normalizer.transform(norm_features)\n",
    "std_features = scaler.transform(std_features)\n",
    "features = np.concatenate((norm_features, std_features), axis=1)\n",
    "\n",
    "df = pd.DataFrame(features, columns=list(columns))\n",
    "print(\"Data has feature: \", df.columns.to_list())\n",
    "test_features = df.to_numpy()\n",
    "\n",
    "y_pred = clf.predict_proba(test_features)[:, 1]\n",
    "y_pred = pd.DataFrame(y_pred)\n",
    "y_pred = y_pred.rank()\n",
    "\n",
    "sample_csv = pd.read_csv(SUBMISSION_PATH)\n",
    "sample_csv['failure'] = y_pred\n",
    "sample_csv.to_csv('109550099.csv', index=False)"
   ]
  }
 ],
 "metadata": {
  "kernelspec": {
   "display_name": "Python 3",
   "language": "python",
   "name": "python3"
  },
  "language_info": {
   "codemirror_mode": {
    "name": "ipython",
    "version": 3
   },
   "file_extension": ".py",
   "mimetype": "text/x-python",
   "name": "python",
   "nbconvert_exporter": "python",
   "pygments_lexer": "ipython3",
   "version": "3.10.4"
  },
  "orig_nbformat": 4,
  "vscode": {
   "interpreter": {
    "hash": "9c6da53ade2302c5c2549050a755f7271f56c4989f0bdbb18e4ce6e64f091b09"
   }
  }
 },
 "nbformat": 4,
 "nbformat_minor": 2
}
